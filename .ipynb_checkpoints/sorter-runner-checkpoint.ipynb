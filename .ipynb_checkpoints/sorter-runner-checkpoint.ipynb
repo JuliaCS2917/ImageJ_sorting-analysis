{
 "cells": [
  {
   "cell_type": "markdown",
   "metadata": {},
   "source": [
    "# Sorter Runner\n",
    "## This notebook will run the sorter notebook for each sheet in a dataset"
   ]
  },
  {
   "cell_type": "markdown",
   "metadata": {},
   "source": [
    "sorter.ipynb will set the below variables to their defaults if they don't exist, allowing us to override them here."
   ]
  },
  {
   "cell_type": "code",
   "execution_count": 1,
   "metadata": {},
   "outputs": [],
   "source": [
    "#Hide traceback\n",
    "import functools\n",
    "ipython = get_ipython()\n",
    "method_name = \"showtraceback\"\n",
    "setattr(\n",
    "    ipython,\n",
    "    method_name,\n",
    "    functools.partial(\n",
    "        getattr(ipython, method_name),\n",
    "        exception_only=True\n",
    "    )\n",
    ")"
   ]
  },
  {
   "cell_type": "code",
   "execution_count": 2,
   "metadata": {},
   "outputs": [
    {
     "name": "stdout",
     "output_type": "stream",
     "text": [
      "Successfully wrote M66.xlsx\n",
      "Successfully wrote M82.xlsx\n",
      "Successfully wrote F108.xlsx\n",
      "Successfully wrote F77.xlsx\n",
      "Successfully wrote F75.xlsx\n",
      "Successfully wrote F74.xlsx\n",
      "Successfully wrote F65.xlsx\n"
     ]
    }
   ],
   "source": [
    "import pandas as pd\n",
    "\n",
    "source = r'L2 NM raw data.xlsx'\n",
    "threshold = 100\n",
    "cell_color = r'#009933'\n",
    "showoutput = False\n",
    "showcharts = False\n",
    "\n",
    "for subject in pd.ExcelFile(source).sheet_names:\n",
    "    try:\n",
    "        %run sorter.ipynb\n",
    "    except:\n",
    "        print(f\"Failed to parse subject {subject}\")"
   ]
  },
  {
   "cell_type": "code",
   "execution_count": null,
   "metadata": {},
   "outputs": [],
   "source": []
  },
  {
   "cell_type": "code",
   "execution_count": null,
   "metadata": {},
   "outputs": [],
   "source": []
  }
 ],
 "metadata": {
  "kernelspec": {
   "display_name": "Python 3 (ipykernel)",
   "language": "python",
   "name": "python3"
  },
  "language_info": {
   "codemirror_mode": {
    "name": "ipython",
    "version": 3
   },
   "file_extension": ".py",
   "mimetype": "text/x-python",
   "name": "python",
   "nbconvert_exporter": "python",
   "pygments_lexer": "ipython3",
   "version": "3.9.7"
  }
 },
 "nbformat": 4,
 "nbformat_minor": 4
}
